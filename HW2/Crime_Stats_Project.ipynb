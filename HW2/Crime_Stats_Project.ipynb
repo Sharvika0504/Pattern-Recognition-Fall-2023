{
  "cells": [
    {
      "cell_type": "markdown",
      "id": "55e6b918-afac-43e8-b338-43f8ac64014f",
      "metadata": {
        "id": "55e6b918-afac-43e8-b338-43f8ac64014f"
      },
      "source": [
        "##  Deep Neural Networks Project"
      ]
    },
    {
      "cell_type": "markdown",
      "id": "1a8e066d-2849-4a6e-9c71-bb98d605ae07",
      "metadata": {
        "id": "1a8e066d-2849-4a6e-9c71-bb98d605ae07"
      },
      "source": [
        "In this project, you will be working with a real-world data set from the Las Vegas Metropolitan Police Department. The dataset  contains information about the reported incidents, including the time and location of the crime, type of incident, and number of persons involved."
      ]
    },
    {
      "cell_type": "markdown",
      "id": "9e87fac7-352a-4c39-b087-76254b5e2743",
      "metadata": {
        "id": "9e87fac7-352a-4c39-b087-76254b5e2743"
      },
      "source": [
        "The dataset is downloaded from the public docket at:\n",
        "https://opendata-lvmpd.hub.arcgis.com\n",
        "\n",
        "let's read the csv file and transform the data:"
      ]
    },
    {
      "cell_type": "code",
      "execution_count": 1,
      "id": "637211a4-582f-426b-a127-c3f284463f35",
      "metadata": {
        "id": "637211a4-582f-426b-a127-c3f284463f35"
      },
      "outputs": [],
      "source": [
        "import torch\n",
        "import pandas as pd\n",
        "from torch.utils.data import DataLoader, Dataset\n",
        "import matplotlib.pyplot as plt\n",
        "import seaborn as sns\n",
        "import numpy as np"
      ]
    },
    {
      "cell_type": "code",
      "execution_count": 2,
      "id": "bcf40b02-80b6-4abc-a662-f7ed50a65181",
      "metadata": {
        "id": "bcf40b02-80b6-4abc-a662-f7ed50a65181"
      },
      "outputs": [],
      "source": [
        "orig_df = pd.read_csv('/content/LVMPD-Stats.csv', parse_dates=['ReportedOn'])"
      ]
    },
    {
      "cell_type": "code",
      "execution_count": 3,
      "id": "e1ca1d15-3955-4971-a3c4-c1a73b62edda",
      "metadata": {
        "id": "e1ca1d15-3955-4971-a3c4-c1a73b62edda"
      },
      "outputs": [],
      "source": [
        "df = pd.read_csv('/content/LVMPD-Stats.csv', parse_dates=['ReportedOn'], usecols = ['X','Y','ReportedOn', 'Area_Command','NIBRSOffenseCode', 'VictimCount'])\n",
        "df['DayOfWeek'] = df['ReportedOn'].dt.day_name()\n",
        "df['Time' ] = df['ReportedOn'].dt.hour\n",
        "df.drop(columns = 'ReportedOn', inplace=True)"
      ]
    },
    {
      "cell_type": "code",
      "execution_count": 4,
      "id": "3ddc413d-ba3f-4204-bc18-7fdd4de8d221",
      "metadata": {
        "id": "3ddc413d-ba3f-4204-bc18-7fdd4de8d221"
      },
      "outputs": [],
      "source": [
        "df['X'] = df['X']\n",
        "df['Y'] = df['Y']\n",
        "df['Time'] = pd.factorize(df['Time'])[0]\n",
        "df['DayOfWeek'] = pd.factorize(df['DayOfWeek'])[0]\n",
        "df.Area_Command = pd.factorize(df['Area_Command'])[0]\n",
        "df.VictimCount = pd.factorize(df['VictimCount'])[0]\n",
        "df.NIBRSOffenseCode = pd.factorize(df['NIBRSOffenseCode'])[0]\n",
        "df.dropna(inplace=True)"
      ]
    },
    {
      "cell_type": "code",
      "execution_count": 5,
      "id": "a9c6162f-9686-4195-818d-950a6368c686",
      "metadata": {
        "id": "a9c6162f-9686-4195-818d-950a6368c686"
      },
      "outputs": [],
      "source": [
        "df= df[['X', 'Y', 'Area_Command', 'NIBRSOffenseCode',\n",
        "       'DayOfWeek', 'Time','VictimCount']]"
      ]
    },
    {
      "cell_type": "code",
      "execution_count": 6,
      "id": "a90bc78a-6d1b-4fe4-a1b0-8333aec1c851",
      "metadata": {
        "colab": {
          "base_uri": "https://localhost:8080/"
        },
        "id": "a90bc78a-6d1b-4fe4-a1b0-8333aec1c851",
        "outputId": "17776710-4b21-41de-a0bf-95ec5537c66e"
      },
      "outputs": [
        {
          "output_type": "execute_result",
          "data": {
            "text/plain": [
              "(275, 7)"
            ]
          },
          "metadata": {},
          "execution_count": 6
        }
      ],
      "source": [
        "df.values.shape"
      ]
    },
    {
      "cell_type": "markdown",
      "id": "651605b1-8d2c-4d3e-a09e-9aef6e550fc6",
      "metadata": {
        "id": "651605b1-8d2c-4d3e-a09e-9aef6e550fc6"
      },
      "source": [
        "# Goal\n",
        "The goal is to build a predictive model that is trained on the following data:\n",
        "* latitude and longitude (location)\n",
        "* Hour of the day\n",
        "* Day of the week\n",
        "* Area-of-command code: The police designation of the bureau of the operation.\n",
        "* Classification code for the crime committed\n",
        "  \n",
        "The predicted variable is the number of persons involved in the accident.\n"
      ]
    },
    {
      "cell_type": "markdown",
      "id": "0e54f0b8-83f9-4db9-88f9-f5a595342069",
      "metadata": {
        "id": "0e54f0b8-83f9-4db9-88f9-f5a595342069"
      },
      "source": [
        "## Task 1\n",
        "* print a few rows of the values in the dataframe ``df`` and explain what each column of data means.\n",
        "* identify the input and target variables\n",
        "* what is the range of values in each column? Do you need to scale, shift or normalize your data?\n",
        "\n",
        "##Ans\n",
        "Range of values in each column:\n",
        "* \"X\" (Latitude) and \"Y\" (Longitude) should represent geographical coordinates, and their values typically fall within certain ranges (e.g., latitude between -90 and 90 degrees, and longitude between -180 and 180 degrees).\n",
        "* \"Time\" can range from 0 to 23, representing the hours of the day.\n",
        "* \"DayOfWeek\" can range from 0 to 6, representing the days of the week (0 for Monday, 6 for Sunday).\n",
        "* \"Area_Command\" and \"NIBRSOffenseCode\" are categorical variables and don't have a numeric range.\n",
        "* \"VictimCount\" should be a non-negative integer, representing the number of persons involved in the incident.\n",
        "Scaling, Shifting, or Normalizing the Data.\n",
        "* For geographical coordinates \"X\" and \"Y,\"  Scaling or normalization might not be necessary for these columns as they might be in the defined range and also consistent\n",
        "* For \"Time\" and \"DayOfWeek,\" no additional scaling or normalization is needed since they are already within appropriate ranges.\n",
        "* For \"VictimCount,\" scaling and normalization might be required depending on the boundary values\n"
      ]
    },
    {
      "cell_type": "code",
      "source": [
        "print(df.head())"
      ],
      "metadata": {
        "colab": {
          "base_uri": "https://localhost:8080/"
        },
        "id": "MZ210qMYajE4",
        "outputId": "417fb775-c401-46da-c53f-3eef10cd7e7e"
      },
      "id": "MZ210qMYajE4",
      "execution_count": 7,
      "outputs": [
        {
          "output_type": "stream",
          "name": "stdout",
          "text": [
            "            X          Y  Area_Command  NIBRSOffenseCode  DayOfWeek  Time  \\\n",
            "0 -115.087518  36.216702             0                 0          0     0   \n",
            "1 -115.240172  36.189693             1                 1          1     1   \n",
            "2 -115.143088  36.181329             2                 1          2     0   \n",
            "3 -115.225014  36.117633             3                 1          1     2   \n",
            "4 -115.176708  36.095967             4                 1          1     3   \n",
            "\n",
            "   VictimCount  \n",
            "0            0  \n",
            "1            0  \n",
            "2            1  \n",
            "3            2  \n",
            "4            0  \n"
          ]
        }
      ]
    },
    {
      "cell_type": "code",
      "source": [
        "import pandas as pd\n",
        "\n",
        "\n",
        "# Define the range for scaling (e.g., 0 to 1)\n",
        "min_range = 0\n",
        "max_range = 1\n",
        "\n",
        "# Get the minimum and maximum values of 'VictimCount'\n",
        "min_value = df['VictimCount'].min()\n",
        "max_value = df['VictimCount'].max()\n",
        "\n",
        "# Apply Min-Max scaling\n",
        "df['NormalizedVictimCount'] = ((df['VictimCount'] - min_value) / (max_value - min_value)) * (max_range - min_range) + min_range\n",
        "\n"
      ],
      "metadata": {
        "id": "qMbxhf-P9xe-"
      },
      "id": "qMbxhf-P9xe-",
      "execution_count": 12,
      "outputs": []
    },
    {
      "cell_type": "markdown",
      "id": "5549ecc9-3c0b-4efa-9a1f-340a25a1e4be",
      "metadata": {
        "id": "5549ecc9-3c0b-4efa-9a1f-340a25a1e4be"
      },
      "source": [
        "## Task 2\n",
        "\n",
        "* Create two `DataLoader` objects for training and testing based on the input and output variables. Pick a reasonable batch size and verify the shape of data by iterating over the one dataset and printing the shape of the batched data."
      ]
    },
    {
      "cell_type": "code",
      "execution_count": 13,
      "id": "00fe4287-934b-4799-9e43-c3571acfbab4",
      "metadata": {
        "colab": {
          "base_uri": "https://localhost:8080/"
        },
        "id": "00fe4287-934b-4799-9e43-c3571acfbab4",
        "outputId": "d706fa64-bc1a-4fc3-8e39-386adb8903ce"
      },
      "outputs": [
        {
          "output_type": "stream",
          "name": "stdout",
          "text": [
            "Batch Shape - Inputs: torch.Size([64, 6]) Targets: torch.Size([64])\n"
          ]
        }
      ],
      "source": [
        "import torch\n",
        "from torch.utils.data import DataLoader, Dataset, TensorDataset\n",
        "import numpy as np\n",
        "\n",
        "# Assuming 'df' contains your preprocessed data\n",
        "X = df[['X', 'Y', 'Area_Command', 'NIBRSOffenseCode', 'DayOfWeek', 'Time']]\n",
        "Y = df['VictimCount']\n",
        "\n",
        "# Convert input and target variables to PyTorch tensors\n",
        "X_tensor = torch.tensor(X.values, dtype=torch.float32)\n",
        "Y_tensor = torch.tensor(Y.values, dtype=torch.float32)\n",
        "\n",
        "# Convert tensors to NumPy arrays\n",
        "X_array = X_tensor.numpy()\n",
        "Y_array = Y_tensor.numpy()\n",
        "\n",
        "# Split the data into training and testing sets\n",
        "train_size = int(0.8 * len(X_array))\n",
        "test_size = len(X_array) - train_size\n",
        "\n",
        "X_train, X_test = X_array[:train_size], X_array[train_size:]\n",
        "Y_train, Y_test = Y_array[:train_size], Y_array[train_size:]\n",
        "\n",
        "# Define the dataset and DataLoader for training and testing\n",
        "train_dataset = TensorDataset(torch.tensor(X_train), torch.tensor(Y_train))\n",
        "test_dataset = TensorDataset(torch.tensor(X_test), torch.tensor(Y_test))\n",
        "\n",
        "batch_size = 64\n",
        "\n",
        "train_loader = DataLoader(train_dataset, batch_size=batch_size, shuffle=True)\n",
        "test_loader = DataLoader(test_dataset, batch_size=batch_size, shuffle=False)\n",
        "\n",
        "# Verify the shape of data by iterating over one dataset (e.g., training set)\n",
        "for inputs, targets in train_loader:\n",
        "    print(\"Batch Shape - Inputs:\", inputs.shape, \"Targets:\", targets.shape)\n",
        "    break"
      ]
    },
    {
      "cell_type": "markdown",
      "id": "1fb6f08c-5e70-4b14-b62c-4686d9f7aace",
      "metadata": {
        "id": "1fb6f08c-5e70-4b14-b62c-4686d9f7aace"
      },
      "source": [
        "## Task 3\n",
        "In this task you will try to predict number of crime victims as a **real number**. Therefore the machine learning problem is a **regression** problem.\n",
        "\n",
        "* Define the proper loss function for this task\n",
        "* what should the size of the predicted output be?\n",
        "* explain your choice of architecture, including how many layers you will be using\n",
        "* define an optimizer for training this model, choose a proper learning rate\n",
        "* write a training loop that obtains a batch out of the  training data and calculates the forward and backward passes over the neural network. Call the optimizer to update the weights of the neural network.\n",
        "* write a for loop that continues the training over a number of epochs. At the end of each epoch, calculate the ``MSE`` error on the test data and print it.\n",
        "* is your model training well? Adjust the learning rate, hidden size of the network, and try different activation functions and number of layers to achieve the best accuracy and report it.\n",
        "\n",
        "#Solution\n",
        "Let's go through your code and answer your questions step by step:\n",
        "\n",
        "**Loss Function:**\n",
        " Mean Squared Error (MSE) loss,  is a suitable choice for a regression problem where we are predicting a real number (number of crime victims). MSE measures the average squared difference between predictions and the actual target values.\n",
        "\n",
        "**Size of the Predicted Output:**\n",
        "The size of the predicted output is 1, which is appropriate for regression tasks where you are predicting a single continuous value.\n",
        "\n",
        "**Model Architecture I have use:**\n",
        "I  have used a feedforward neural network with multiple hidden layers and ReLU activation functions. This architecture is suitable for regression problems. In this specific case, I have 3 hidden layers with 64 units each, followed by an output layer with 1 unit. The ReLU activation function is a common choice for hidden layers in neural networks.\n",
        "\n",
        "**Optimizer and Learning Rate:**\n",
        "You have chosen Stochastic Gradient Descent (SGD) as the optimizer with a learning rate of 0.001. The choice of the optimizer and learning rate depends on your specific problem and dataset. SGD is a good starting point, and the learning rate of 0.001 is reasonable for many tasks. However, the learning rate can be adjusted based on your observations during training.\n",
        "\n",
        "\n",
        "\n",
        "**Model Training:**\n",
        "I believe that my  model is training well, as the training loss is decreasing over time, indicating that the model is learning. To improve model accuracy, y I have adjuste the learning rate, hidden layer size,  and varied the number of layers."
      ]
    },
    {
      "cell_type": "code",
      "source": [
        "import torch.nn as nn\n",
        "# Define the neural network architecture\n",
        "class CrimeVictimPredictor(nn.Module):\n",
        "    def __init__(self, input_size, hidden_size):\n",
        "        super(CrimeVictimPredictor, self).__init__()\n",
        "        self.fc1 = nn.Linear(input_size, hidden_size)\n",
        "        self.fc2 = nn.Linear(hidden_size, hidden_size)\n",
        "        self.fc3 = nn.Linear(hidden_size, hidden_size)\n",
        "        self.fc4 = nn.Linear(hidden_size, 1)\n",
        "        self.relu = nn.ReLU()\n",
        "\n",
        "    def forward(self, x):\n",
        "        x = self.fc1(x)\n",
        "        x = self.relu(x)\n",
        "        x = self.fc2(x)\n",
        "        x = self.relu(x)\n",
        "        x = self.fc3(x)\n",
        "        x = self.relu(x)\n",
        "        x = self.fc4(x)\n",
        "        return x\n",
        "\n",
        "# Define the loss function\n",
        "loss_function = nn.MSELoss()\n",
        "\n",
        "# Create the model\n",
        "input_size = X_train.shape[1]\n",
        "hidden_size = 64\n",
        "model = CrimeVictimPredictor(input_size, hidden_size)\n",
        "\n",
        "# Define the optimizer and learning rate\n",
        "learning_rate = 0.001\n",
        "optimizer = torch.optim.SGD(model.parameters(), lr=learning_rate)\n",
        "\n",
        "# Training loop\n",
        "num_epochs = 100\n",
        "\n",
        "for epoch in range(num_epochs):\n",
        "    model.train()\n",
        "    total_loss = 0.0\n",
        "\n",
        "    for inputs, targets in train_loader:\n",
        "        optimizer.zero_grad()\n",
        "        predictions = model(inputs)\n",
        "        loss = loss_function(predictions, targets.view(-1, 1))\n",
        "        loss.backward()\n",
        "        optimizer.step()\n",
        "        total_loss += loss.item()\n",
        "\n",
        "    avg_loss = total_loss / len(train_loader)\n",
        "    print(f'Epoch [{epoch + 1}/{num_epochs}], Loss: {avg_loss:.4f}')\n",
        "\n",
        "# Evaluation on the test data\n",
        "model.eval()\n",
        "test_loss = 0.0\n",
        "\n",
        "with torch.no_grad():\n",
        "    for inputs, targets in test_loader:\n",
        "        predictions = model(inputs)\n",
        "        test_loss += loss_function(predictions, targets.view(-1, 1)).item()\n",
        "\n",
        "avg_test_loss = test_loss / len(test_loader)\n",
        "print(f'Test MSE: {avg_test_loss:.4f}')"
      ],
      "metadata": {
        "colab": {
          "base_uri": "https://localhost:8080/"
        },
        "id": "P2aHxJjRgrEz",
        "outputId": "f73d6070-fde6-4992-c8f9-80d96c70ec9d"
      },
      "id": "P2aHxJjRgrEz",
      "execution_count": 9,
      "outputs": [
        {
          "output_type": "stream",
          "name": "stdout",
          "text": [
            "Epoch [1/100], Loss: 18.5308\n",
            "Epoch [2/100], Loss: 0.9920\n",
            "Epoch [3/100], Loss: 0.9293\n",
            "Epoch [4/100], Loss: 0.8238\n",
            "Epoch [5/100], Loss: 0.8433\n",
            "Epoch [6/100], Loss: 0.8020\n",
            "Epoch [7/100], Loss: 0.8047\n",
            "Epoch [8/100], Loss: 0.8417\n",
            "Epoch [9/100], Loss: 0.8470\n",
            "Epoch [10/100], Loss: 0.8320\n",
            "Epoch [11/100], Loss: 0.7862\n",
            "Epoch [12/100], Loss: 0.8515\n",
            "Epoch [13/100], Loss: 0.7712\n",
            "Epoch [14/100], Loss: 0.8214\n",
            "Epoch [15/100], Loss: 0.7515\n",
            "Epoch [16/100], Loss: 0.7893\n",
            "Epoch [17/100], Loss: 0.7831\n",
            "Epoch [18/100], Loss: 0.8239\n",
            "Epoch [19/100], Loss: 0.8551\n",
            "Epoch [20/100], Loss: 0.7496\n",
            "Epoch [21/100], Loss: 0.7685\n",
            "Epoch [22/100], Loss: 0.8094\n",
            "Epoch [23/100], Loss: 0.8231\n",
            "Epoch [24/100], Loss: 0.7991\n",
            "Epoch [25/100], Loss: 0.7975\n",
            "Epoch [26/100], Loss: 0.8201\n",
            "Epoch [27/100], Loss: 0.8522\n",
            "Epoch [28/100], Loss: 0.7859\n",
            "Epoch [29/100], Loss: 0.8506\n",
            "Epoch [30/100], Loss: 0.7490\n",
            "Epoch [31/100], Loss: 0.7682\n",
            "Epoch [32/100], Loss: 0.8193\n",
            "Epoch [33/100], Loss: 0.8123\n",
            "Epoch [34/100], Loss: 0.8462\n",
            "Epoch [35/100], Loss: 0.8445\n",
            "Epoch [36/100], Loss: 0.8249\n",
            "Epoch [37/100], Loss: 0.8197\n",
            "Epoch [38/100], Loss: 0.7647\n",
            "Epoch [39/100], Loss: 0.8185\n",
            "Epoch [40/100], Loss: 0.7648\n",
            "Epoch [41/100], Loss: 0.8907\n",
            "Epoch [42/100], Loss: 0.8593\n",
            "Epoch [43/100], Loss: 0.7737\n",
            "Epoch [44/100], Loss: 0.8703\n",
            "Epoch [45/100], Loss: 0.9063\n",
            "Epoch [46/100], Loss: 0.7733\n",
            "Epoch [47/100], Loss: 0.7979\n",
            "Epoch [48/100], Loss: 0.8568\n",
            "Epoch [49/100], Loss: 0.8041\n",
            "Epoch [50/100], Loss: 0.7635\n",
            "Epoch [51/100], Loss: 0.8171\n",
            "Epoch [52/100], Loss: 0.7986\n",
            "Epoch [53/100], Loss: 0.7795\n",
            "Epoch [54/100], Loss: 0.8098\n",
            "Epoch [55/100], Loss: 0.7711\n",
            "Epoch [56/100], Loss: 0.8268\n",
            "Epoch [57/100], Loss: 0.8350\n",
            "Epoch [58/100], Loss: 0.9169\n",
            "Epoch [59/100], Loss: 0.8112\n",
            "Epoch [60/100], Loss: 0.8120\n",
            "Epoch [61/100], Loss: 0.8170\n",
            "Epoch [62/100], Loss: 0.7934\n",
            "Epoch [63/100], Loss: 0.8276\n",
            "Epoch [64/100], Loss: 0.7983\n",
            "Epoch [65/100], Loss: 0.7737\n",
            "Epoch [66/100], Loss: 0.7700\n",
            "Epoch [67/100], Loss: 0.8239\n",
            "Epoch [68/100], Loss: 0.8755\n",
            "Epoch [69/100], Loss: 0.8059\n",
            "Epoch [70/100], Loss: 0.7814\n",
            "Epoch [71/100], Loss: 0.8424\n",
            "Epoch [72/100], Loss: 0.7751\n",
            "Epoch [73/100], Loss: 0.8201\n",
            "Epoch [74/100], Loss: 0.8117\n",
            "Epoch [75/100], Loss: 0.7951\n",
            "Epoch [76/100], Loss: 0.7982\n",
            "Epoch [77/100], Loss: 0.8473\n",
            "Epoch [78/100], Loss: 0.8630\n",
            "Epoch [79/100], Loss: 0.8770\n",
            "Epoch [80/100], Loss: 0.8708\n",
            "Epoch [81/100], Loss: 0.7959\n",
            "Epoch [82/100], Loss: 0.7784\n",
            "Epoch [83/100], Loss: 0.8713\n",
            "Epoch [84/100], Loss: 0.8223\n",
            "Epoch [85/100], Loss: 0.7907\n",
            "Epoch [86/100], Loss: 0.7946\n",
            "Epoch [87/100], Loss: 0.8557\n",
            "Epoch [88/100], Loss: 0.8230\n",
            "Epoch [89/100], Loss: 0.8799\n",
            "Epoch [90/100], Loss: 0.8114\n",
            "Epoch [91/100], Loss: 0.8070\n",
            "Epoch [92/100], Loss: 0.7990\n",
            "Epoch [93/100], Loss: 0.8347\n",
            "Epoch [94/100], Loss: 0.9168\n",
            "Epoch [95/100], Loss: 0.8188\n",
            "Epoch [96/100], Loss: 0.8211\n",
            "Epoch [97/100], Loss: 0.7643\n",
            "Epoch [98/100], Loss: 0.8797\n",
            "Epoch [99/100], Loss: 0.7333\n",
            "Epoch [100/100], Loss: 0.7900\n",
            "Test MSE: 1.5231\n"
          ]
        }
      ]
    },
    {
      "cell_type": "markdown",
      "id": "86e3fc70-c6ce-4589-9930-128951290e8d",
      "metadata": {
        "id": "86e3fc70-c6ce-4589-9930-128951290e8d"
      },
      "source": [
        "## Task 4\n",
        "\n",
        "In this task, you will try to predict the number of crime victims as a **class number**. Therefore the machine learning problem is a **classification** problem.\n",
        "\n",
        "* Repeat all the steps in task 3. Specifically, pay attention to the differences with regression.\n",
        "* How would you find the number of classes on the output data?\n",
        "* How is the architecture different?\n",
        "* How is the loss function different?\n",
        "* Calculate the Accuracy for test data as the number of correct classified outputs divided by the total number of test data in each epoch. Report it at the end of each epoch\n",
        "* Try a few variations of learning rate, hidden dimensions, layers, etc. What is the best accuracy that you can get?\n",
        "\n",
        "##Solution -\n",
        "* Number of classes - To find the number of classes in the output data, I calculated the number of unique classes in your training labels (Y_train).\n",
        "* Architecture Difference:\n",
        "In a classification task, the output layer of your neural network should have a number of units equal to the number of classes (num_classes). The major difference in the architecture is the output layer. In my code, I have added an additional fully connected layer with num_classes units. This layer is responsible for producing class scores for each class. I have also one more layer compared to the regression task.\n",
        "\n",
        "\n"
      ]
    },
    {
      "cell_type": "code",
      "execution_count": 14,
      "id": "7d929c52-af34-4081-92cd-3463a3fc4db1",
      "metadata": {
        "colab": {
          "base_uri": "https://localhost:8080/"
        },
        "id": "7d929c52-af34-4081-92cd-3463a3fc4db1",
        "outputId": "ea896541-ac88-4e8a-8ae1-1eb39f815243"
      },
      "outputs": [
        {
          "output_type": "stream",
          "name": "stdout",
          "text": [
            "Epoch [1/100],  Accuracy: 36.36%\n",
            "Epoch [2/100],  Accuracy: 36.36%\n",
            "Epoch [3/100],  Accuracy: 36.36%\n",
            "Epoch [4/100],  Accuracy: 36.36%\n",
            "Epoch [5/100],  Accuracy: 36.36%\n",
            "Epoch [6/100],  Accuracy: 36.36%\n",
            "Epoch [7/100],  Accuracy: 36.36%\n",
            "Epoch [8/100],  Accuracy: 36.73%\n",
            "Epoch [9/100],  Accuracy: 39.27%\n",
            "Epoch [10/100],  Accuracy: 48.73%\n",
            "Epoch [11/100],  Accuracy: 52.36%\n",
            "Epoch [12/100],  Accuracy: 51.64%\n",
            "Epoch [13/100],  Accuracy: 51.64%\n",
            "Epoch [14/100],  Accuracy: 51.64%\n",
            "Epoch [15/100],  Accuracy: 51.64%\n",
            "Epoch [16/100],  Accuracy: 51.64%\n",
            "Epoch [17/100],  Accuracy: 51.64%\n",
            "Epoch [18/100],  Accuracy: 51.64%\n",
            "Epoch [19/100],  Accuracy: 51.64%\n",
            "Epoch [20/100],  Accuracy: 51.64%\n",
            "Epoch [21/100],  Accuracy: 51.64%\n",
            "Epoch [22/100],  Accuracy: 51.64%\n",
            "Epoch [23/100],  Accuracy: 51.64%\n",
            "Epoch [24/100],  Accuracy: 51.64%\n",
            "Epoch [25/100],  Accuracy: 51.64%\n",
            "Epoch [26/100],  Accuracy: 51.64%\n",
            "Epoch [27/100],  Accuracy: 51.64%\n",
            "Epoch [28/100],  Accuracy: 51.64%\n",
            "Epoch [29/100],  Accuracy: 51.64%\n",
            "Epoch [30/100],  Accuracy: 51.64%\n",
            "Epoch [31/100],  Accuracy: 51.64%\n",
            "Epoch [32/100],  Accuracy: 51.64%\n",
            "Epoch [33/100],  Accuracy: 51.64%\n",
            "Epoch [34/100],  Accuracy: 51.64%\n",
            "Epoch [35/100],  Accuracy: 51.64%\n",
            "Epoch [36/100],  Accuracy: 51.64%\n",
            "Epoch [37/100],  Accuracy: 51.64%\n",
            "Epoch [38/100],  Accuracy: 51.64%\n",
            "Epoch [39/100],  Accuracy: 51.64%\n",
            "Epoch [40/100],  Accuracy: 51.64%\n",
            "Epoch [41/100],  Accuracy: 51.64%\n",
            "Epoch [42/100],  Accuracy: 51.64%\n",
            "Epoch [43/100],  Accuracy: 51.64%\n",
            "Epoch [44/100],  Accuracy: 51.64%\n",
            "Epoch [45/100],  Accuracy: 51.64%\n",
            "Epoch [46/100],  Accuracy: 51.64%\n",
            "Epoch [47/100],  Accuracy: 51.64%\n",
            "Epoch [48/100],  Accuracy: 51.64%\n",
            "Epoch [49/100],  Accuracy: 51.64%\n",
            "Epoch [50/100],  Accuracy: 51.64%\n",
            "Epoch [51/100],  Accuracy: 51.64%\n",
            "Epoch [52/100],  Accuracy: 51.64%\n",
            "Epoch [53/100],  Accuracy: 51.64%\n",
            "Epoch [54/100],  Accuracy: 51.64%\n",
            "Epoch [55/100],  Accuracy: 51.64%\n",
            "Epoch [56/100],  Accuracy: 51.64%\n",
            "Epoch [57/100],  Accuracy: 51.64%\n",
            "Epoch [58/100],  Accuracy: 51.64%\n",
            "Epoch [59/100],  Accuracy: 51.64%\n",
            "Epoch [60/100],  Accuracy: 51.64%\n",
            "Epoch [61/100],  Accuracy: 51.64%\n",
            "Epoch [62/100],  Accuracy: 51.64%\n",
            "Epoch [63/100],  Accuracy: 51.64%\n",
            "Epoch [64/100],  Accuracy: 51.64%\n",
            "Epoch [65/100],  Accuracy: 51.64%\n",
            "Epoch [66/100],  Accuracy: 51.64%\n",
            "Epoch [67/100],  Accuracy: 51.64%\n",
            "Epoch [68/100],  Accuracy: 51.64%\n",
            "Epoch [69/100],  Accuracy: 51.64%\n",
            "Epoch [70/100],  Accuracy: 51.64%\n",
            "Epoch [71/100],  Accuracy: 51.64%\n",
            "Epoch [72/100],  Accuracy: 51.64%\n",
            "Epoch [73/100],  Accuracy: 51.64%\n",
            "Epoch [74/100],  Accuracy: 51.64%\n",
            "Epoch [75/100],  Accuracy: 51.64%\n",
            "Epoch [76/100],  Accuracy: 51.64%\n",
            "Epoch [77/100],  Accuracy: 51.64%\n",
            "Epoch [78/100],  Accuracy: 51.64%\n",
            "Epoch [79/100],  Accuracy: 51.64%\n",
            "Epoch [80/100],  Accuracy: 51.64%\n",
            "Epoch [81/100],  Accuracy: 51.64%\n",
            "Epoch [82/100],  Accuracy: 51.64%\n",
            "Epoch [83/100],  Accuracy: 51.64%\n",
            "Epoch [84/100],  Accuracy: 51.64%\n",
            "Epoch [85/100],  Accuracy: 51.64%\n",
            "Epoch [86/100],  Accuracy: 51.64%\n",
            "Epoch [87/100],  Accuracy: 51.64%\n",
            "Epoch [88/100],  Accuracy: 51.64%\n",
            "Epoch [89/100],  Accuracy: 51.64%\n",
            "Epoch [90/100],  Accuracy: 51.64%\n",
            "Epoch [91/100],  Accuracy: 51.64%\n",
            "Epoch [92/100],  Accuracy: 51.64%\n",
            "Epoch [93/100],  Accuracy: 51.64%\n",
            "Epoch [94/100],  Accuracy: 51.64%\n",
            "Epoch [95/100],  Accuracy: 51.64%\n",
            "Epoch [96/100],  Accuracy: 51.64%\n",
            "Epoch [97/100],  Accuracy: 51.64%\n",
            "Epoch [98/100],  Accuracy: 51.64%\n",
            "Epoch [99/100],  Accuracy: 51.64%\n",
            "Epoch [100/100],  Accuracy: 51.64%\n",
            "Best Test Accuracy: 51.63636363636363\n"
          ]
        }
      ],
      "source": [
        "import torch.nn as nn\n",
        "\n",
        "# Define the neural network architecture for classification\n",
        "class CrimeVictimClassifier(nn.Module):\n",
        "    def __init__(self, input_size, hidden_size, num_classes):\n",
        "        super(CrimeVictimClassifier, self).__init__()\n",
        "        self.fc1 = nn.Linear(input_size, hidden_size)\n",
        "        self.fc2 = nn.Linear(hidden_size, hidden_size)\n",
        "        self.fc3 = nn.Linear(hidden_size, hidden_size)\n",
        "        self.fc4 = nn.Linear(hidden_size, hidden_size)\n",
        "        self.fc5 = nn.Linear(hidden_size, num_classes)\n",
        "        self.relu = nn.ReLU()\n",
        "\n",
        "    def forward(self, x):\n",
        "        x = self.fc1(x)\n",
        "        x = self.relu(x)\n",
        "        x = self.fc2(x)\n",
        "        x = self.relu(x)\n",
        "        x = self.fc3(x)\n",
        "        x = self.relu(x)\n",
        "        x = self.fc4(x)\n",
        "        x = self.relu(x)\n",
        "        x = self.fc5(x)\n",
        "        return x\n",
        "\n",
        "# Define the model, loss function, and optimizer\n",
        "input_size = X_train.shape[1]\n",
        "hidden_size = 64\n",
        "num_classes = len(set(Y_train))  # Calculate the number of unique classes from the training data\n",
        "model = CrimeVictimClassifier(input_size, hidden_size, num_classes)\n",
        "loss_function = nn.CrossEntropyLoss()\n",
        "optimizer = torch.optim.SGD(model.parameters(), lr=0.0010)\n",
        "\n",
        "# Training loop\n",
        "num_epochs = 100\n",
        "\n",
        "for epoch in range(num_epochs):\n",
        "    model.train()\n",
        "    correct = 0\n",
        "    total = 0\n",
        "    bst_acc = 0.0\n",
        "\n",
        "    for inputs, targets in train_loader:\n",
        "        optimizer.zero_grad()\n",
        "        predictions = model(inputs)\n",
        "        targets = targets.long()\n",
        "        loss = loss_function(predictions, targets)\n",
        "        loss.backward()\n",
        "        optimizer.step()\n",
        "        total_loss += loss.item()\n",
        "\n",
        "        _, predicted = torch.max(predictions.data, 1)\n",
        "        total += targets.size(0)\n",
        "        correct += (predicted == targets).sum().item()\n",
        "\n",
        "    with torch.no_grad():\n",
        "          for inputs, targets in test_loader:\n",
        "              predictions = model(inputs)\n",
        "              _, predicted = torch.max(predictions.data, 1)\n",
        "              total += targets.size(0)\n",
        "              correct += (predicted == targets).sum().item()\n",
        "    test_accuracy = 100 * correct / total\n",
        "    print(f'Epoch [{epoch + 1}/{num_epochs}],  Accuracy: {test_accuracy:.2f}%')\n",
        "    # Check if this model achieved the best accuracy\n",
        "    if test_accuracy > bst_acc:\n",
        "        best_accuracy = test_accuracy\n",
        "        best_model = model\n",
        "        best_hyperparameters = {\n",
        "            'learning_rate': learning_rate,\n",
        "            'hidden_size': hidden_size\n",
        "        }\n",
        "print(\"Best Test Accuracy:\", best_accuracy)"
      ]
    },
    {
      "cell_type": "markdown",
      "id": "84d2a304-6197-4cd9-b31e-745f7862f213",
      "metadata": {
        "id": "84d2a304-6197-4cd9-b31e-745f7862f213"
      },
      "source": [
        "## Task 5"
      ]
    },
    {
      "cell_type": "markdown",
      "id": "d6e4ef16-d828-45e5-bd58-1c49fcfecf52",
      "metadata": {
        "id": "d6e4ef16-d828-45e5-bd58-1c49fcfecf52"
      },
      "source": [
        "### Reflect on your results\n",
        "\n",
        "* Write a paragraph about your experience with tasks 3 and 4. How do you compare the results? Which one worked better? Why?\n",
        "* Write a piece of code that finds an example of a  miss-classification. Calculate the probabilities for the output classes and plot them in a bar chart. Also, indicate what is the correct class label.\n",
        "\n",
        "#Solution -\n",
        "In tasks 3 and 4, the transition from a regression problem to a classification problem significantly altered the approach and the neural network architecture. In task 3, the objective was to predict the number of crime victims as a real number, which required a regression model, while in task 4, the goal shifted to predicting the number of crime victims as a class number, turning it into a classification problem. The architecture, loss function, and evaluation metrics were adapted accordingly. In task 4, the classification model, employing a Cross-Entropy Loss and outputting class probabilities, aimed to categorize the data into discrete classes. Comparing the results, the success of one over the other largely depends on the nature of the problem. For regression, the MSE loss measured the closeness of predictions to actual values, while for classification, the accuracy and Cross-Entropy Loss were key metrics. The performance of one approach over the other is not directly comparable, as they serve different problem domains. The choice between regression and classification depends on the specific task and the nature of the datawhether the target variable should be predicted as a continuous value or assigned to a discrete class."
      ]
    },
    {
      "cell_type": "code",
      "source": [
        "import torch\n",
        "import matplotlib.pyplot as plt\n",
        "\n",
        "\n",
        "misclassified_examples = []\n",
        "misclassified_labels = []\n",
        "\n",
        "with torch.no_grad():\n",
        "    for inputs, targets in test_loader:\n",
        "        outputs = model(inputs)\n",
        "        predicted = torch.argmax(outputs, dim=1)\n",
        "\n",
        "        # Finding the  misclassified examples\n",
        "        misclassified_mask = predicted != targets\n",
        "        misclassified_examples.extend(inputs[misclassified_mask])\n",
        "        misclassified_labels.extend(targets[misclassified_mask])\n",
        "\n",
        "import random\n",
        "random_index = random.randint(0, len(misclassified_examples) - 1)\n",
        "misclassified_example = misclassified_examples[random_index]\n",
        "correct_label = misclassified_labels[random_index].item()\n",
        "\n",
        "\n",
        "with torch.no_grad():\n",
        "    misclassified_example = misclassified_example.unsqueeze(0)\n",
        "    outputs = model(misclassified_example)\n",
        "    class_probabilities = torch.softmax(outputs, dim=1).numpy()[0]\n",
        "\n",
        "\n",
        "class_labels = [str(i) for i in range(len(class_probabilities))]\n",
        "plt.bar(class_labels, class_probabilities, color='blue')\n",
        "plt.xlabel('Class Label')\n",
        "plt.ylabel('Probability')\n",
        "plt.title(' Class Probabilities  for the Misclassified Example')\n",
        "plt.show()\n",
        "\n",
        "print(f\"Correct Class Label: {correct_label}\")"
      ],
      "metadata": {
        "colab": {
          "base_uri": "https://localhost:8080/",
          "height": 489
        },
        "id": "u1ji0M_d43Az",
        "outputId": "1d018992-6613-4180-8b7b-6745607ea6dc"
      },
      "id": "u1ji0M_d43Az",
      "execution_count": 23,
      "outputs": [
        {
          "output_type": "display_data",
          "data": {
            "text/plain": [
              "<Figure size 640x480 with 1 Axes>"
            ],
            "image/png": "[encoded data removed]"
          },
          "metadata": {}
        },
        {
          "output_type": "stream",
          "name": "stdout",
          "text": [
            "Correct Class Label: 2.0\n"
          ]
        }
      ]
    },
    {
      "cell_type": "markdown",
      "id": "5b000b0b-fa37-4f8d-8ec7-0a1e6e749424",
      "metadata": {
        "id": "5b000b0b-fa37-4f8d-8ec7-0a1e6e749424"
      },
      "source": [
        "## Task 6: Exploring the patterns in raw data\n",
        "\n",
        "* Plot the crime incidents as a `scatter` plot using the corrdinates. Use the color property of each datapoint to indicate the day of the week. Is there a pattern in the plot?\n",
        "* Now make a new scatter plot and use the color property of each datapoint to indicate the number of persons involved in the incident. Is there a pattern here?\n",
        "* use numpy (or pandas if you like) to sort the number of crimes reported by the day of the week. What days are most frequent?\n",
        "\n",
        "\n",
        "#Solution\n",
        "Pattern -\n",
        "1 st graph - the cluster indicates that the crime is prone to happen between thursday and friday.\n",
        "2nd graph - the   cluster of dark-colored points,  implies that this area is more prone to incidents involving a larger number of people."
      ]
    },
    {
      "cell_type": "code",
      "execution_count": 16,
      "id": "5b396aaf-5d1a-49cd-ae1d-b63af7e561f5",
      "metadata": {
        "colab": {
          "base_uri": "https://localhost:8080/",
          "height": 1000
        },
        "id": "5b396aaf-5d1a-49cd-ae1d-b63af7e561f5",
        "outputId": "7fafd748-d79f-4962-b5e5-1149eca3d2a0"
      },
      "outputs": [
        {
          "output_type": "display_data",
          "data": {
            "text/plain": [
              "<Figure size 1200x600 with 2 Axes>"
            ],
            "image/png": "[encoded data removed]"
          },
          "metadata": {}
        },
        {
          "output_type": "display_data",
          "data": {
            "text/plain": [
              "<Figure size 1200x600 with 2 Axes>"
            ],
            "image/png": "[encoded data removed]"
          },
          "metadata": {}
        }
      ],
      "source": [
        "import matplotlib.pyplot as plt\n",
        "import numpy as np\n",
        "\n",
        "# Scatter plot with color indicating the day of the week\n",
        "plt.figure(figsize=(12, 6))\n",
        "plt.scatter(df['X'], df['Y'], c=df['DayOfWeek'], cmap='viridis', s=10, alpha=0.5)\n",
        "plt.colorbar(label='Day of the Week')\n",
        "plt.title('Crime Incidents by Day of the Week')\n",
        "plt.xlabel('Longitude (X)')\n",
        "plt.ylabel('Latitude (Y)')\n",
        "plt.show()\n",
        "\n",
        "# Scatter plot with color indicating the number of persons involved\n",
        "plt.figure(figsize=(12, 6))\n",
        "plt.scatter(df['X'], df['Y'], c=df['VictimCount'], cmap='plasma', s=10, alpha=0.5)\n",
        "plt.colorbar(label='Number of Persons Involved')\n",
        "plt.title('Crime Incidents by Number of Persons Involved')\n",
        "plt.xlabel('Longitude (X)')\n",
        "plt.ylabel('Latitude (Y)')\n",
        "plt.show()"
      ]
    },
    {
      "cell_type": "code",
      "source": [
        "# Sort the number of crimes reported by the day of the week\n",
        "day_of_week_counts = df['DayOfWeek'].value_counts().sort_index()\n",
        "# Print the most frequent days\n",
        "print(\"Most frequent days:\")\n",
        "print(day_of_week_counts)"
      ],
      "metadata": {
        "colab": {
          "base_uri": "https://localhost:8080/"
        },
        "id": "t2bqDrJh7db9",
        "outputId": "b4679dae-27a4-4386-c01e-c342e3d086e8"
      },
      "id": "t2bqDrJh7db9",
      "execution_count": 17,
      "outputs": [
        {
          "output_type": "stream",
          "name": "stdout",
          "text": [
            "Most frequent days:\n",
            "0    40\n",
            "1    37\n",
            "2    32\n",
            "3    44\n",
            "4    51\n",
            "5    43\n",
            "6    28\n",
            "Name: DayOfWeek, dtype: int64\n"
          ]
        }
      ]
    }
  ],
  "metadata": {
    "kernelspec": {
      "display_name": "Python 3 (ipykernel)",
      "language": "python",
      "name": "python3"
    },
    "language_info": {
      "codemirror_mode": {
        "name": "ipython",
        "version": 3
      },
      "file_extension": ".py",
      "mimetype": "text/x-python",
      "name": "python",
      "nbconvert_exporter": "python",
      "pygments_lexer": "ipython3",
      "version": "3.11.5"
    },
    "colab": {
      "provenance": []
    }
  },
  "nbformat": 4,
  "nbformat_minor": 5
}